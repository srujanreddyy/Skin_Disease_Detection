{
  "cells": [
    {
      "cell_type": "code",
      "execution_count": null,
      "metadata": {
        "id": "-60fzTt5sCpH"
      },
      "outputs": [],
      "source": [
        "import os\n",
        "import cv2   #opencv\n",
        "import numpy as np\n",
        "import matplotlib.pyplot as plt\n",
        "import tensorflow as tf\n",
        "from tensorflow.keras.preprocessing.image import ImageDataGenerator\n",
        "from tensorflow.keras.applications import InceptionV3\n",
        "from tensorflow.keras.layers import GlobalAveragePooling2D, Dense, Dropout, Conv2D, MaxPooling2D, BatchNormalization, Flatten\n",
        "from tensorflow.keras.models import Model\n",
        "from tensorflow.keras.optimizers import Adam\n",
        "from PIL import Image"
      ]
    },
    {
      "cell_type": "code",
      "execution_count": null,
      "metadata": {
        "colab": {
          "base_uri": "https://localhost:8080/"
        },
        "id": "XScXegRVff7q",
        "outputId": "11a47c1e-dcf4-4b92-d641-6291ef39e6d5"
      },
      "outputs": [
        {
          "output_type": "stream",
          "name": "stdout",
          "text": [
            "Requirement already satisfied: Pillow in /usr/local/lib/python3.10/dist-packages (9.4.0)\n"
          ]
        }
      ],
      "source": [
        "!pip install Pillow\n",
        "from PIL import Image"
      ]
    },
    {
      "cell_type": "code",
      "execution_count": null,
      "metadata": {
        "id": "wuJAYKLxsU_E"
      },
      "outputs": [],
      "source": [
        "labels_dict = {\n",
        "    'Actinic keratosis': 0,\n",
        "    'Atopic Dermatitis': 1,\n",
        "    'Benign keratosis': 2,\n",
        "    'Dermatofibroma': 3,\n",
        "    'Melanocytic nevus': 4,\n",
        "    'Melanoma': 5,\n",
        "    'Squamous cell carcinoma': 6,\n",
        "    'Tinea Ringworm Candidiasis': 7,\n",
        "    'Vascular lesion': 8\n",
        "}"
      ]
    },
    {
      "cell_type": "code",
      "execution_count": null,
      "metadata": {
        "id": "CfM0HYlRsXPn"
      },
      "outputs": [],
      "source": [
        "data_dir = '/content/drive/MyDrive/Split_smol/train'"
      ]
    },
    {
      "cell_type": "code",
      "execution_count": null,
      "metadata": {
        "id": "Ucw70AFysZQ1"
      },
      "outputs": [],
      "source": [
        "X = []\n",
        "y = []\n",
        "\n",
        "for folder, label in labels_dict.items():\n",
        "    folder_path = os.path.join(data_dir, folder)\n",
        "    if not os.path.isdir(folder_path):\n",
        "        print(f\"Directory '{folder}' not found in '{data_dir}'. Skipping...\")\n",
        "        continue\n",
        "\n",
        "    for image_name in os.listdir(folder_path):\n",
        "        image_path = os.path.join(folder_path, image_name)\n",
        "        img = cv2.imread(image_path)\n",
        "        if img is None:\n",
        "            print(f\"Failed to read image: {image_path}. Skipping...\")\n",
        "            continue\n",
        "\n",
        "        img = cv2.resize(img, (227, 227))  # Resize images to (227, 227)\n",
        "        X.append(img)\n",
        "        y.append(label)\n",
        "\n",
        "X = np.array(X)\n",
        "y = np.array(y)"
      ]
    },
    {
      "cell_type": "code",
      "execution_count": null,
      "metadata": {
        "id": "NFqECDqMSZXt"
      },
      "outputs": [],
      "source": [
        "indices = np.arange(X.shape[0])\n",
        "np.random.shuffle(indices)\n",
        "X_shuffled = X[indices]\n",
        "y_shuffled = y[indices]   #shuffle to unsure that train and testing data will not follow same order\n",
        "\n",
        "# Split the data into training and validation sets\n",
        "split_index = int(0.8 * len(X_shuffled))  # Use 80% of the data for training\n",
        "X_train, X_val = X_shuffled[:split_index], X_shuffled[split_index:]\n",
        "y_train, y_val = y_shuffled[:split_index], y_shuffled[split_index:]"
      ]
    },
    {
      "cell_type": "code",
      "execution_count": null,
      "metadata": {
        "id": "YW1ae4ohsiQW"
      },
      "outputs": [],
      "source": [
        "datagen = ImageDataGenerator(          #data augumentation\n",
        "    rescale=1./255,\n",
        "    rotation_range=40,\n",
        "    width_shift_range=0.2,\n",
        "    height_shift_range=0.2,\n",
        "    shear_range=0.2,\n",
        "    zoom_range=0.2,\n",
        "    horizontal_flip=True,\n",
        "    fill_mode='nearest'\n",
        ")\n",
        "\n"
      ]
    },
    {
      "cell_type": "code",
      "execution_count": null,
      "metadata": {
        "id": "Q5rZaH-YtZo7",
        "colab": {
          "base_uri": "https://localhost:8080/"
        },
        "outputId": "ec5e8a60-df88-426c-aaa8-26d3ccc8ba9f"
      },
      "outputs": [
        {
          "output_type": "stream",
          "name": "stdout",
          "text": [
            "18\n",
            "5\n"
          ]
        }
      ],
      "source": [
        "train_generator = datagen.flow(X_train, y_train, batch_size=32)\n",
        "val_generator = datagen.flow(X_val, y_val, batch_size=32)\n",
        "\n",
        "print(len(train_generator))\n",
        "print(len(val_generator))"
      ]
    },
    {
      "cell_type": "code",
      "execution_count": null,
      "metadata": {
        "id": "YsNxqcaOssvq"
      },
      "outputs": [],
      "source": [
        "base_model = InceptionV3(weights='imagenet', include_top=False, input_shape=(227, 227, 3))   #googlenet"
      ]
    },
    {
      "cell_type": "code",
      "execution_count": null,
      "metadata": {
        "id": "5Xw326tgsxu-"
      },
      "outputs": [],
      "source": [
        "for layer in base_model.layers:\n",
        "    layer.trainable = False        #to freeze the data for no longer changes\n"
      ]
    },
    {
      "cell_type": "code",
      "execution_count": null,
      "metadata": {
        "id": "8z5BLTkWs1A2"
      },
      "outputs": [],
      "source": [
        "\n",
        "x = base_model.output\n",
        "x = GlobalAveragePooling2D()(x)          # x is input\n",
        "x = Dense(256, activation='relu')(x)\n",
        "x = Dropout(0.5)(x)\n",
        "output = Dense(len(labels_dict), activation='softmax')(x)   #softmax - gives probability distribution to determine the class\n"
      ]
    },
    {
      "cell_type": "code",
      "execution_count": null,
      "metadata": {
        "id": "Xw01dloqs4h6"
      },
      "outputs": [],
      "source": [
        "model = Model(inputs=base_model.input, outputs=output)\n"
      ]
    },
    {
      "cell_type": "code",
      "execution_count": null,
      "metadata": {
        "colab": {
          "base_uri": "https://localhost:8080/"
        },
        "id": "3G7aueZUs8x_",
        "outputId": "86d3f9e0-67f1-4e31-b757-9b1a4c9b6f44"
      },
      "outputs": [
        {
          "output_type": "stream",
          "name": "stderr",
          "text": [
            "WARNING:absl:`lr` is deprecated in Keras optimizer, please use `learning_rate` or use the legacy optimizer, e.g.,tf.keras.optimizers.legacy.Adam.\n"
          ]
        }
      ],
      "source": [
        "\n",
        "model.compile(loss='sparse_categorical_crossentropy', optimizer=Adam(lr=0.0001), metrics=['accuracy'])\n"
      ]
    },
    {
      "cell_type": "code",
      "execution_count": null,
      "metadata": {
        "colab": {
          "base_uri": "https://localhost:8080/"
        },
        "id": "maoS7xfItAH0",
        "outputId": "f22bd01c-44fa-4025-b483-7bd8ce7a46ee"
      },
      "outputs": [
        {
          "output_type": "stream",
          "name": "stdout",
          "text": [
            "Epoch 1/20\n",
            "18/18 [==============================] - 143s 7s/step - loss: 2.3953 - accuracy: 0.2424 - val_loss: 1.6695 - val_accuracy: 0.3714\n",
            "Epoch 2/20\n",
            "18/18 [==============================] - 121s 7s/step - loss: 1.6880 - accuracy: 0.4093 - val_loss: 1.4271 - val_accuracy: 0.4571\n",
            "Epoch 3/20\n",
            "18/18 [==============================] - 105s 6s/step - loss: 1.5155 - accuracy: 0.4776 - val_loss: 1.3616 - val_accuracy: 0.5000\n",
            "Epoch 4/20\n",
            "18/18 [==============================] - 104s 6s/step - loss: 1.3994 - accuracy: 0.5189 - val_loss: 1.3057 - val_accuracy: 0.5214\n",
            "Epoch 5/20\n",
            "18/18 [==============================] - 102s 6s/step - loss: 1.2829 - accuracy: 0.5637 - val_loss: 1.2554 - val_accuracy: 0.5286\n",
            "Epoch 6/20\n",
            "18/18 [==============================] - 124s 7s/step - loss: 1.2704 - accuracy: 0.5404 - val_loss: 1.2809 - val_accuracy: 0.5214\n",
            "Epoch 7/20\n",
            "18/18 [==============================] - 123s 7s/step - loss: 1.2300 - accuracy: 0.5655 - val_loss: 1.1824 - val_accuracy: 0.5786\n",
            "Epoch 8/20\n",
            "18/18 [==============================] - 122s 7s/step - loss: 1.1929 - accuracy: 0.5763 - val_loss: 1.1447 - val_accuracy: 0.5786\n",
            "Epoch 9/20\n",
            "18/18 [==============================] - 105s 6s/step - loss: 1.1512 - accuracy: 0.5601 - val_loss: 1.1077 - val_accuracy: 0.5857\n",
            "Epoch 10/20\n",
            "18/18 [==============================] - 102s 6s/step - loss: 1.0841 - accuracy: 0.6014 - val_loss: 1.2176 - val_accuracy: 0.5286\n",
            "Epoch 11/20\n",
            "18/18 [==============================] - 103s 6s/step - loss: 1.1351 - accuracy: 0.5996 - val_loss: 1.0593 - val_accuracy: 0.6000\n",
            "Epoch 12/20\n",
            "18/18 [==============================] - 102s 6s/step - loss: 0.9888 - accuracy: 0.6535 - val_loss: 1.0693 - val_accuracy: 0.6000\n",
            "Epoch 13/20\n",
            "18/18 [==============================] - 102s 6s/step - loss: 1.0049 - accuracy: 0.6373 - val_loss: 1.1214 - val_accuracy: 0.6286\n",
            "Epoch 14/20\n",
            "18/18 [==============================] - 104s 6s/step - loss: 1.0434 - accuracy: 0.6266 - val_loss: 1.0930 - val_accuracy: 0.6143\n",
            "Epoch 15/20\n",
            "18/18 [==============================] - 101s 6s/step - loss: 1.0699 - accuracy: 0.6194 - val_loss: 1.1203 - val_accuracy: 0.5571\n",
            "Epoch 16/20\n",
            "18/18 [==============================] - 104s 6s/step - loss: 0.9839 - accuracy: 0.6445 - val_loss: 1.0659 - val_accuracy: 0.6071\n",
            "Epoch 17/20\n",
            "18/18 [==============================] - 122s 7s/step - loss: 0.9711 - accuracy: 0.6679 - val_loss: 1.0109 - val_accuracy: 0.6357\n",
            "Epoch 18/20\n",
            "18/18 [==============================] - 121s 7s/step - loss: 1.0065 - accuracy: 0.6571 - val_loss: 1.0523 - val_accuracy: 0.6071\n",
            "Epoch 19/20\n",
            "18/18 [==============================] - 122s 7s/step - loss: 0.9516 - accuracy: 0.6732 - val_loss: 0.9688 - val_accuracy: 0.5500\n",
            "Epoch 20/20\n",
            "18/18 [==============================] - 124s 7s/step - loss: 0.9483 - accuracy: 0.6894 - val_loss: 0.9888 - val_accuracy: 0.6143\n"
          ]
        }
      ],
      "source": [
        "\n",
        "history = model.fit(\n",
        "    train_generator,\n",
        "    epochs=20,     #the number of training iterations (epochs) the model will go through.\n",
        "    validation_data=val_generator\n",
        ")\n"
      ]
    },
    {
      "cell_type": "code",
      "execution_count": null,
      "metadata": {
        "id": "HcDzDB5KtL7j",
        "colab": {
          "base_uri": "https://localhost:8080/"
        },
        "outputId": "e2dd3cbe-191c-4a84-c7ef-ed32e0a41154"
      },
      "outputs": [
        {
          "output_type": "stream",
          "name": "stdout",
          "text": [
            "5/5 [==============================] - 22s 4s/step - loss: 1.0202 - accuracy: 0.6143\n",
            "Test loss: 1.020193099975586\n",
            "Test accuracy: 0.6142857074737549\n"
          ]
        }
      ],
      "source": [
        "\n",
        "test_loss, test_accuracy = model.evaluate(val_generator)\n",
        "print('Test loss:', test_loss)\n",
        "print('Test accuracy:', test_accuracy)"
      ]
    },
    {
      "cell_type": "code",
      "execution_count": null,
      "metadata": {
        "id": "cNc_NWMFtgkK",
        "colab": {
          "base_uri": "https://localhost:8080/",
          "height": 472
        },
        "outputId": "12b8b909-9ae6-49db-bbc4-2f15feb2e9ee"
      },
      "outputs": [
        {
          "output_type": "display_data",
          "data": {
            "text/plain": [
              "<Figure size 640x480 with 1 Axes>"
            ],
            "image/png": "[encoded data removed]"
          },
          "metadata": {}
        }
      ],
      "source": [
        "plt.plot(history.history['accuracy'], label='Training accuracy')\n",
        "plt.plot(history.history['val_accuracy'], label='Validation accuracy')\n",
        "plt.title('Training and Validation accuracy')\n",
        "plt.xlabel('Epoch')\n",
        "plt.ylabel('Accuracy')\n",
        "plt.legend()\n",
        "plt.show()\n",
        "\n"
      ]
    },
    {
      "cell_type": "code",
      "execution_count": null,
      "metadata": {
        "id": "zk3NxmLJxYDz",
        "colab": {
          "base_uri": "https://localhost:8080/"
        },
        "outputId": "a9bc9128-2492-4940-80b0-e1b6a645a32f"
      },
      "outputs": [
        {
          "output_type": "stream",
          "name": "stderr",
          "text": [
            "/usr/local/lib/python3.10/dist-packages/keras/src/engine/training.py:3103: UserWarning: You are saving your model as an HDF5 file via `model.save()`. This file format is considered legacy. We recommend using instead the native Keras format, e.g. `model.save('my_model.keras')`.\n",
            "  saving_api.save_model(\n"
          ]
        }
      ],
      "source": [
        "model.save('skin_diseases_model_inceptionv3.h5')"
      ]
    },
    {
      "cell_type": "code",
      "execution_count": null,
      "metadata": {
        "id": "eoPFvLo9xbaH"
      },
      "outputs": [],
      "source": [
        "new_model = tf.keras.models.load_model('skin_diseases_model_inceptionv3.h5')"
      ]
    },
    {
      "cell_type": "code",
      "execution_count": null,
      "metadata": {
        "id": "MyR92cxWyHa0",
        "colab": {
          "base_uri": "https://localhost:8080/"
        },
        "outputId": "b831bd39-da91-4f36-fdd8-c490ed05f57a"
      },
      "outputs": [
        {
          "output_type": "stream",
          "name": "stdout",
          "text": [
            "1/1 [==============================] - 3s 3s/step\n",
            "Predicted class index: 5\n"
          ]
        }
      ],
      "source": [
        "import PIL\n",
        "image_path = '/content/drive/MyDrive/Split_smol/train/Melanoma/ISIC_0000002.jpg'\n",
        "test_image = PIL.Image.open(image_path)\n",
        "resized_image = test_image.resize((227, 227))\n",
        "resized_image = np.array(resized_image) / 255.0\n",
        "resized_image = resized_image[np.newaxis, ...]\n",
        "prediction = new_model.predict(resized_image)\n",
        "predicted_class_index = np.argmax(prediction)\n",
        "print('Predicted class index:', predicted_class_index)"
      ]
    },
    {
      "cell_type": "code",
      "execution_count": null,
      "metadata": {
        "id": "XBBCq8pkyrer",
        "colab": {
          "base_uri": "https://localhost:8080/"
        },
        "outputId": "578d079b-35e6-4dbd-e49a-3856fc8df9d2"
      },
      "outputs": [
        {
          "output_type": "stream",
          "name": "stdout",
          "text": [
            "Predicted label: Melanoma\n"
          ]
        }
      ],
      "source": [
        "predicted_label = {v: k for k, v in labels_dict.items()}.get(predicted_class_index)\n",
        "print('Predicted label:', predicted_label)"
      ]
    }
  ],
  "metadata": {
    "colab": {
      "provenance": [],
      "gpuType": "T4"
    },
    "kernelspec": {
      "display_name": "Python 3",
      "name": "python3"
    },
    "language_info": {
      "name": "python"
    },
    "accelerator": "GPU"
  },
  "nbformat": 4,
  "nbformat_minor": 0
}